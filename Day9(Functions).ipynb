{
 "cells": [
  {
   "cell_type": "code",
   "execution_count": null,
   "metadata": {},
   "outputs": [],
   "source": [
    "#functions\n",
    "#Functions used to execute specific task.\n",
    "#Also used for code reusability.\n",
    "#\"\"\"test \"\"\"-------used to comment inside a function.\n",
    "    "
   ]
  },
  {
   "cell_type": "code",
   "execution_count": 1,
   "metadata": {},
   "outputs": [],
   "source": [
    "def my_user():\n",
    "    \"\"\"Displaying a sample greeting\"\"\"\n",
    "    print('hello')"
   ]
  },
  {
   "cell_type": "code",
   "execution_count": 2,
   "metadata": {},
   "outputs": [
    {
     "name": "stdout",
     "output_type": "stream",
     "text": [
      "hello\n"
     ]
    }
   ],
   "source": [
    "my_user() #calling function"
   ]
  },
  {
   "cell_type": "code",
   "execution_count": null,
   "metadata": {},
   "outputs": [],
   "source": [
    "#code enhancement"
   ]
  },
  {
   "cell_type": "code",
   "execution_count": 7,
   "metadata": {},
   "outputs": [],
   "source": [
    "def my_user(user_name): #parameter passing\n",
    "    print(f\"welcome to , {user_name.title()}\")"
   ]
  },
  {
   "cell_type": "code",
   "execution_count": 8,
   "metadata": {},
   "outputs": [
    {
     "name": "stdout",
     "output_type": "stream",
     "text": [
      "welcome to , Python\n"
     ]
    }
   ],
   "source": [
    "my_user(\"python\") #calling a function"
   ]
  },
  {
   "cell_type": "code",
   "execution_count": null,
   "metadata": {},
   "outputs": [],
   "source": [
    "#Two types of arguments\n",
    "#1.Positional arguments.\n",
    "#2.Keyword arguments."
   ]
  },
  {
   "cell_type": "code",
   "execution_count": 16,
   "metadata": {},
   "outputs": [],
   "source": [
    "#positionals arguments\n",
    "def my_motorcycle(brand_name,motorcycle_name):\n",
    "    \"\"\"My Motorcycle\"\"\"\n",
    "    print(f\"\\nI have a {brand_name.upper()}\")\n",
    "    print(f\"my {brand_name.upper()}'s name is {motorcycle_name.title()}\")"
   ]
  },
  {
   "cell_type": "code",
   "execution_count": 17,
   "metadata": {},
   "outputs": [
    {
     "name": "stdout",
     "output_type": "stream",
     "text": [
      "\n",
      "I have a RE\n",
      "my RE's name is Thunderbird\n"
     ]
    }
   ],
   "source": [
    "my_motorcycle('RE','Thunderbird') #calling functions"
   ]
  },
  {
   "cell_type": "code",
   "execution_count": null,
   "metadata": {},
   "outputs": [],
   "source": [
    "#by default functions will accept as possitional arguments\n",
    "#keyword------>passing argument through parameters"
   ]
  },
  {
   "cell_type": "code",
   "execution_count": 20,
   "metadata": {},
   "outputs": [
    {
     "name": "stdout",
     "output_type": "stream",
     "text": [
      "\n",
      "I have a RE\n",
      "my RE's name is Thunderbird\n"
     ]
    }
   ],
   "source": [
    "my_motorcycle(brand_name='RE',motorcycle_name='Thunderbird')"
   ]
  },
  {
   "cell_type": "code",
   "execution_count": null,
   "metadata": {},
   "outputs": [],
   "source": [
    "#passing Default arguemnts"
   ]
  },
  {
   "cell_type": "code",
   "execution_count": 37,
   "metadata": {},
   "outputs": [],
   "source": [
    "def my_motorcycle(brand_name,motorcycle_name='classic'):\n",
    "    \"\"\"Displaying my motorcycle\"\"\"\n",
    "    print(f\"\\n i have a {brand_name.title()}\")\n",
    "    print(f\"my {brand_name.title()}'s name is {motorcycle_name.title()}\")"
   ]
  },
  {
   "cell_type": "code",
   "execution_count": 38,
   "metadata": {},
   "outputs": [
    {
     "name": "stdout",
     "output_type": "stream",
     "text": [
      "\n",
      " i have a Re\n",
      "my Re's name is Classic\n"
     ]
    }
   ],
   "source": [
    "my_motorcycle('re') #passing single argument"
   ]
  },
  {
   "cell_type": "code",
   "execution_count": 40,
   "metadata": {},
   "outputs": [
    {
     "name": "stdout",
     "output_type": "stream",
     "text": [
      "\n",
      " i have a Re\n",
      "my Re's name is Bullet\n"
     ]
    }
   ],
   "source": [
    "my_motorcycle('RE','Bullet')"
   ]
  },
  {
   "cell_type": "code",
   "execution_count": 41,
   "metadata": {},
   "outputs": [
    {
     "name": "stdout",
     "output_type": "stream",
     "text": [
      "\n",
      " i have a Re\n",
      "my Re's name is Electra\n"
     ]
    }
   ],
   "source": [
    "my_motorcycle(brand_name='RE',motorcycle_name='Electra') #passing both arguments."
   ]
  },
  {
   "cell_type": "code",
   "execution_count": 47,
   "metadata": {},
   "outputs": [],
   "source": [
    "#return values\n",
    "def get_formatted_name(first_name,last_name):\n",
    "    \"\"\"Return a full name in formatted way\"\"\"\n",
    "    full_name=f\"{first_name.title()}{last_name.title()}\"\n",
    "    return full_name"
   ]
  },
  {
   "cell_type": "code",
   "execution_count": 48,
   "metadata": {},
   "outputs": [
    {
     "data": {
      "text/plain": [
       "'SaranRaj'"
      ]
     },
     "execution_count": 48,
     "metadata": {},
     "output_type": "execute_result"
    }
   ],
   "source": [
    "get_formatted_name('Saran', 'Raj')"
   ]
  },
  {
   "cell_type": "code",
   "execution_count": null,
   "metadata": {},
   "outputs": [],
   "source": []
  },
  {
   "cell_type": "code",
   "execution_count": null,
   "metadata": {},
   "outputs": [],
   "source": []
  },
  {
   "cell_type": "code",
   "execution_count": null,
   "metadata": {},
   "outputs": [],
   "source": []
  },
  {
   "cell_type": "code",
   "execution_count": null,
   "metadata": {},
   "outputs": [],
   "source": []
  }
 ],
 "metadata": {
  "kernelspec": {
   "display_name": "Python 3",
   "language": "python",
   "name": "python3"
  },
  "language_info": {
   "codemirror_mode": {
    "name": "ipython",
    "version": 3
   },
   "file_extension": ".py",
   "mimetype": "text/x-python",
   "name": "python",
   "nbconvert_exporter": "python",
   "pygments_lexer": "ipython3",
   "version": "3.7.6"
  }
 },
 "nbformat": 4,
 "nbformat_minor": 4
}
